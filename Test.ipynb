{
 "cells": [
  {
   "cell_type": "code",
   "execution_count": 1,
   "id": "af8f68a3",
   "metadata": {},
   "outputs": [],
   "source": [
    "import cv2\n",
    "import os\n",
    "from tensorflow.keras.preprocessing.image import img_to_array\n",
    "from tensorflow.keras.models import load_model\n",
    "from tensorflow.keras.applications.mobilenet_v2 import preprocess_input\n",
    "import numpy as np\n",
    "\n",
    "\n",
    "faceCascade = cv2.CascadeClassifier(\"haarcascade_frontalface_default.xml\")\n",
    "model = load_model(\"mask_detector.model\")\n",
    "\n",
    "def face_mask_detector(frame):\n",
    "  # frame = cv2.imread(fileName)\n",
    "  gray = cv2.cvtColor(frame, cv2.COLOR_BGR2GRAY)\n",
    "  faces = faceCascade.detectMultiScale(gray,\n",
    "                                        scaleFactor=1.1,\n",
    "                                        minNeighbors=5,\n",
    "                                        minSize=(60, 60),\n",
    "                                        flags=cv2.CASCADE_SCALE_IMAGE)\n",
    "  faces_list=[]\n",
    "  preds=[]\n",
    "  for (x, y, w, h) in faces:\n",
    "      face_frame = frame[y:y+h,x:x+w]\n",
    "      face_frame = cv2.cvtColor(face_frame, cv2.COLOR_BGR2RGB)\n",
    "      face_frame = cv2.resize(face_frame, (224, 224))\n",
    "      face_frame = img_to_array(face_frame)\n",
    "      face_frame = np.expand_dims(face_frame, axis=0)\n",
    "      face_frame =  preprocess_input(face_frame)\n",
    "      faces_list.append(face_frame)\n",
    "      if len(faces_list)>0:\n",
    "          preds = model.predict(faces_list)\n",
    "      for pred in preds:\n",
    "          (correctlyWorn, incorrectlyWorn) = pred\n",
    "      label = \"Correctly Worn\" if correctlyWorn > incorrectlyWorn else \"Not Correctly Worn\"\n",
    "      color = (0, 255, 0) if label == \"Correctly Worn\" else (0, 0, 255)\n",
    "      label = \"{}: {:.2f}%\".format(label, max(correctlyWorn, incorrectlyWorn) * 100)\n",
    "      cv2.putText(frame, label, (x, y- 10),\n",
    "                  cv2.FONT_HERSHEY_SIMPLEX, 1, color, 2)\n",
    "\n",
    "      cv2.rectangle(frame, (x, y), (x + w, y + h),color, 3)\n",
    "  # cv2_imshow(frame)\n",
    "  return frame"
   ]
  },
  {
   "cell_type": "code",
   "execution_count": null,
   "id": "2b333755",
   "metadata": {},
   "outputs": [],
   "source": [
    "\n",
    "input_image = cv2.imread(\"images6.png\")\n",
    "output = face_mask_detector(input_image)\n",
    "cv2.imshow('image',output)\n",
    "cv2.waitKey(0)\n",
    "cv2.destroyAllWindows()"
   ]
  }
 ],
 "metadata": {
  "kernelspec": {
   "display_name": "Python 3",
   "language": "python",
   "name": "python3"
  },
  "language_info": {
   "codemirror_mode": {
    "name": "ipython",
    "version": 3
   },
   "file_extension": ".py",
   "mimetype": "text/x-python",
   "name": "python",
   "nbconvert_exporter": "python",
   "pygments_lexer": "ipython3",
   "version": "3.8.6"
  }
 },
 "nbformat": 4,
 "nbformat_minor": 5
}
